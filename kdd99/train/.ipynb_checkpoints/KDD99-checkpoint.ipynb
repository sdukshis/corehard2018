{
 "cells": [
  {
   "cell_type": "markdown",
   "metadata": {},
   "source": [
    "# Intrusion detection learning (KDD99)\n",
    "http://kdd.ics.uci.edu/databases/kddcup99/kddcup99.html"
   ]
  },
  {
   "cell_type": "code",
   "execution_count": 3,
   "metadata": {},
   "outputs": [
    {
     "name": "stdout",
     "output_type": "stream",
     "text": [
      "Populating the interactive namespace from numpy and matplotlib\n"
     ]
    }
   ],
   "source": [
    "%pylab inline\n",
    "import pandas as pd\n",
    "import logging"
   ]
  },
  {
   "cell_type": "code",
   "execution_count": 4,
   "metadata": {},
   "outputs": [],
   "source": [
    "with open('../data/kddcup.names', 'r') as fd:\n",
    "    line = fd.readline().strip()\n",
    "    attack_types = line.split(',')\n",
    "    feature_names = list()\n",
    "    symbolic_feat = list()\n",
    "    continuous_feat = list()\n",
    "    for line in fd.readlines():\n",
    "        feat_name, feat_type = line.strip().split(': ', 2)\n",
    "        feature_names.append(feat_name)\n",
    "        if feat_type == 'symbolic.':\n",
    "            symbolic_feat.append(feat_name)\n",
    "        elif feat_type == 'continuous.':\n",
    "            continuous_feat.append(feat_name)\n",
    "        else:\n",
    "            logging.warning(\"Unsupported feature type: %s\", feat_type)"
   ]
  },
  {
   "cell_type": "code",
   "execution_count": 5,
   "metadata": {},
   "outputs": [],
   "source": [
    "ds = pd.read_csv('../data/kddcup.data_10_percent.gz', names=feature_names + ['class'])"
   ]
  },
  {
   "cell_type": "code",
   "execution_count": 6,
   "metadata": {},
   "outputs": [
    {
     "data": {
      "text/html": [
       "<div>\n",
       "<style scoped>\n",
       "    .dataframe tbody tr th:only-of-type {\n",
       "        vertical-align: middle;\n",
       "    }\n",
       "\n",
       "    .dataframe tbody tr th {\n",
       "        vertical-align: top;\n",
       "    }\n",
       "\n",
       "    .dataframe thead th {\n",
       "        text-align: right;\n",
       "    }\n",
       "</style>\n",
       "<table border=\"1\" class=\"dataframe\">\n",
       "  <thead>\n",
       "    <tr style=\"text-align: right;\">\n",
       "      <th></th>\n",
       "      <th>duration</th>\n",
       "      <th>protocol_type</th>\n",
       "      <th>service</th>\n",
       "      <th>flag</th>\n",
       "      <th>src_bytes</th>\n",
       "      <th>dst_bytes</th>\n",
       "      <th>land</th>\n",
       "      <th>wrong_fragment</th>\n",
       "      <th>urgent</th>\n",
       "      <th>hot</th>\n",
       "      <th>...</th>\n",
       "      <th>dst_host_srv_count</th>\n",
       "      <th>dst_host_same_srv_rate</th>\n",
       "      <th>dst_host_diff_srv_rate</th>\n",
       "      <th>dst_host_same_src_port_rate</th>\n",
       "      <th>dst_host_srv_diff_host_rate</th>\n",
       "      <th>dst_host_serror_rate</th>\n",
       "      <th>dst_host_srv_serror_rate</th>\n",
       "      <th>dst_host_rerror_rate</th>\n",
       "      <th>dst_host_srv_rerror_rate</th>\n",
       "      <th>class</th>\n",
       "    </tr>\n",
       "  </thead>\n",
       "  <tbody>\n",
       "    <tr>\n",
       "      <th>0</th>\n",
       "      <td>0</td>\n",
       "      <td>tcp</td>\n",
       "      <td>http</td>\n",
       "      <td>SF</td>\n",
       "      <td>181</td>\n",
       "      <td>5450</td>\n",
       "      <td>0</td>\n",
       "      <td>0</td>\n",
       "      <td>0</td>\n",
       "      <td>0</td>\n",
       "      <td>...</td>\n",
       "      <td>9</td>\n",
       "      <td>1.0</td>\n",
       "      <td>0.0</td>\n",
       "      <td>0.11</td>\n",
       "      <td>0.0</td>\n",
       "      <td>0.0</td>\n",
       "      <td>0.0</td>\n",
       "      <td>0.0</td>\n",
       "      <td>0.0</td>\n",
       "      <td>normal.</td>\n",
       "    </tr>\n",
       "    <tr>\n",
       "      <th>1</th>\n",
       "      <td>0</td>\n",
       "      <td>tcp</td>\n",
       "      <td>http</td>\n",
       "      <td>SF</td>\n",
       "      <td>239</td>\n",
       "      <td>486</td>\n",
       "      <td>0</td>\n",
       "      <td>0</td>\n",
       "      <td>0</td>\n",
       "      <td>0</td>\n",
       "      <td>...</td>\n",
       "      <td>19</td>\n",
       "      <td>1.0</td>\n",
       "      <td>0.0</td>\n",
       "      <td>0.05</td>\n",
       "      <td>0.0</td>\n",
       "      <td>0.0</td>\n",
       "      <td>0.0</td>\n",
       "      <td>0.0</td>\n",
       "      <td>0.0</td>\n",
       "      <td>normal.</td>\n",
       "    </tr>\n",
       "    <tr>\n",
       "      <th>2</th>\n",
       "      <td>0</td>\n",
       "      <td>tcp</td>\n",
       "      <td>http</td>\n",
       "      <td>SF</td>\n",
       "      <td>235</td>\n",
       "      <td>1337</td>\n",
       "      <td>0</td>\n",
       "      <td>0</td>\n",
       "      <td>0</td>\n",
       "      <td>0</td>\n",
       "      <td>...</td>\n",
       "      <td>29</td>\n",
       "      <td>1.0</td>\n",
       "      <td>0.0</td>\n",
       "      <td>0.03</td>\n",
       "      <td>0.0</td>\n",
       "      <td>0.0</td>\n",
       "      <td>0.0</td>\n",
       "      <td>0.0</td>\n",
       "      <td>0.0</td>\n",
       "      <td>normal.</td>\n",
       "    </tr>\n",
       "    <tr>\n",
       "      <th>3</th>\n",
       "      <td>0</td>\n",
       "      <td>tcp</td>\n",
       "      <td>http</td>\n",
       "      <td>SF</td>\n",
       "      <td>219</td>\n",
       "      <td>1337</td>\n",
       "      <td>0</td>\n",
       "      <td>0</td>\n",
       "      <td>0</td>\n",
       "      <td>0</td>\n",
       "      <td>...</td>\n",
       "      <td>39</td>\n",
       "      <td>1.0</td>\n",
       "      <td>0.0</td>\n",
       "      <td>0.03</td>\n",
       "      <td>0.0</td>\n",
       "      <td>0.0</td>\n",
       "      <td>0.0</td>\n",
       "      <td>0.0</td>\n",
       "      <td>0.0</td>\n",
       "      <td>normal.</td>\n",
       "    </tr>\n",
       "    <tr>\n",
       "      <th>4</th>\n",
       "      <td>0</td>\n",
       "      <td>tcp</td>\n",
       "      <td>http</td>\n",
       "      <td>SF</td>\n",
       "      <td>217</td>\n",
       "      <td>2032</td>\n",
       "      <td>0</td>\n",
       "      <td>0</td>\n",
       "      <td>0</td>\n",
       "      <td>0</td>\n",
       "      <td>...</td>\n",
       "      <td>49</td>\n",
       "      <td>1.0</td>\n",
       "      <td>0.0</td>\n",
       "      <td>0.02</td>\n",
       "      <td>0.0</td>\n",
       "      <td>0.0</td>\n",
       "      <td>0.0</td>\n",
       "      <td>0.0</td>\n",
       "      <td>0.0</td>\n",
       "      <td>normal.</td>\n",
       "    </tr>\n",
       "  </tbody>\n",
       "</table>\n",
       "<p>5 rows × 42 columns</p>\n",
       "</div>"
      ],
      "text/plain": [
       "   duration protocol_type service flag  src_bytes  dst_bytes  land  \\\n",
       "0         0           tcp    http   SF        181       5450     0   \n",
       "1         0           tcp    http   SF        239        486     0   \n",
       "2         0           tcp    http   SF        235       1337     0   \n",
       "3         0           tcp    http   SF        219       1337     0   \n",
       "4         0           tcp    http   SF        217       2032     0   \n",
       "\n",
       "   wrong_fragment  urgent  hot   ...     dst_host_srv_count  \\\n",
       "0               0       0    0   ...                      9   \n",
       "1               0       0    0   ...                     19   \n",
       "2               0       0    0   ...                     29   \n",
       "3               0       0    0   ...                     39   \n",
       "4               0       0    0   ...                     49   \n",
       "\n",
       "   dst_host_same_srv_rate  dst_host_diff_srv_rate  \\\n",
       "0                     1.0                     0.0   \n",
       "1                     1.0                     0.0   \n",
       "2                     1.0                     0.0   \n",
       "3                     1.0                     0.0   \n",
       "4                     1.0                     0.0   \n",
       "\n",
       "   dst_host_same_src_port_rate  dst_host_srv_diff_host_rate  \\\n",
       "0                         0.11                          0.0   \n",
       "1                         0.05                          0.0   \n",
       "2                         0.03                          0.0   \n",
       "3                         0.03                          0.0   \n",
       "4                         0.02                          0.0   \n",
       "\n",
       "   dst_host_serror_rate  dst_host_srv_serror_rate  dst_host_rerror_rate  \\\n",
       "0                   0.0                       0.0                   0.0   \n",
       "1                   0.0                       0.0                   0.0   \n",
       "2                   0.0                       0.0                   0.0   \n",
       "3                   0.0                       0.0                   0.0   \n",
       "4                   0.0                       0.0                   0.0   \n",
       "\n",
       "   dst_host_srv_rerror_rate    class  \n",
       "0                       0.0  normal.  \n",
       "1                       0.0  normal.  \n",
       "2                       0.0  normal.  \n",
       "3                       0.0  normal.  \n",
       "4                       0.0  normal.  \n",
       "\n",
       "[5 rows x 42 columns]"
      ]
     },
     "execution_count": 6,
     "metadata": {},
     "output_type": "execute_result"
    }
   ],
   "source": [
    "ds.head()"
   ]
  },
  {
   "cell_type": "code",
   "execution_count": 7,
   "metadata": {},
   "outputs": [
    {
     "data": {
      "text/plain": [
       "smurf.              280790\n",
       "neptune.            107201\n",
       "normal.              97278\n",
       "back.                 2203\n",
       "satan.                1589\n",
       "ipsweep.              1247\n",
       "portsweep.            1040\n",
       "warezclient.          1020\n",
       "teardrop.              979\n",
       "pod.                   264\n",
       "nmap.                  231\n",
       "guess_passwd.           53\n",
       "buffer_overflow.        30\n",
       "land.                   21\n",
       "warezmaster.            20\n",
       "imap.                   12\n",
       "rootkit.                10\n",
       "loadmodule.              9\n",
       "ftp_write.               8\n",
       "multihop.                7\n",
       "phf.                     4\n",
       "perl.                    3\n",
       "spy.                     2\n",
       "Name: class, dtype: int64"
      ]
     },
     "execution_count": 7,
     "metadata": {},
     "output_type": "execute_result"
    }
   ],
   "source": [
    "ds['class'].value_counts()"
   ]
  },
  {
   "cell_type": "code",
   "execution_count": 8,
   "metadata": {},
   "outputs": [],
   "source": [
    "ds['target'] = ds['class'].map(lambda x: 1 if x == 'portsweep.' else 0)"
   ]
  },
  {
   "cell_type": "code",
   "execution_count": 9,
   "metadata": {},
   "outputs": [
    {
     "data": {
      "text/plain": [
       "0.002105173666706476"
      ]
     },
     "execution_count": 9,
     "metadata": {},
     "output_type": "execute_result"
    }
   ],
   "source": [
    "X = ds[continuous_feat]\n",
    "y = ds['target']\n",
    "y.mean()"
   ]
  },
  {
   "cell_type": "code",
   "execution_count": 10,
   "metadata": {},
   "outputs": [
    {
     "name": "stderr",
     "output_type": "stream",
     "text": [
      "/usr/local/lib/python3.7/site-packages/sklearn/utils/__init__.py:4: DeprecationWarning: Using or importing the ABCs from 'collections' instead of from 'collections.abc' is deprecated, and in 3.8 it will stop working\n",
      "  from collections import Sequence\n"
     ]
    }
   ],
   "source": [
    "from sklearn.model_selection import train_test_split\n",
    "\n",
    "X_train, X_test, y_train, y_test = train_test_split(X, y, test_size=0.2)"
   ]
  },
  {
   "cell_type": "code",
   "execution_count": 11,
   "metadata": {},
   "outputs": [
    {
     "name": "stderr",
     "output_type": "stream",
     "text": [
      "/usr/local/lib/python3.7/site-packages/sklearn/svm/base.py:922: ConvergenceWarning: Liblinear failed to converge, increase the number of iterations.\n",
      "  \"the number of iterations.\", ConvergenceWarning)\n"
     ]
    }
   ],
   "source": [
    "from sklearn.linear_model import LogisticRegression\n",
    "\n",
    "logreg = LogisticRegression().fit(X_train, y_train)"
   ]
  },
  {
   "cell_type": "code",
   "execution_count": 12,
   "metadata": {},
   "outputs": [
    {
     "name": "stdout",
     "output_type": "stream",
     "text": [
      "[0]\ttrain-auc:0.982204\ttest-auc:0.967812\n",
      "[1]\ttrain-auc:0.982294\ttest-auc:0.967865\n",
      "[2]\ttrain-auc:0.99449\ttest-auc:0.99256\n",
      "[3]\ttrain-auc:0.996322\ttest-auc:0.992555\n",
      "[4]\ttrain-auc:0.996323\ttest-auc:0.992555\n",
      "[5]\ttrain-auc:0.996939\ttest-auc:0.992563\n",
      "[6]\ttrain-auc:0.996939\ttest-auc:0.992563\n",
      "[7]\ttrain-auc:0.997553\ttest-auc:0.992568\n",
      "[8]\ttrain-auc:0.997553\ttest-auc:0.992568\n",
      "[9]\ttrain-auc:0.997544\ttest-auc:0.992542\n",
      "[10]\ttrain-auc:0.997544\ttest-auc:0.992542\n",
      "[11]\ttrain-auc:0.999999\ttest-auc:0.999855\n",
      "[12]\ttrain-auc:0.999999\ttest-auc:0.999846\n",
      "[13]\ttrain-auc:1\ttest-auc:0.99986\n",
      "[14]\ttrain-auc:1\ttest-auc:0.999847\n",
      "[15]\ttrain-auc:1\ttest-auc:0.999881\n",
      "[16]\ttrain-auc:1\ttest-auc:0.999872\n",
      "[17]\ttrain-auc:1\ttest-auc:0.999977\n",
      "[18]\ttrain-auc:1\ttest-auc:0.999965\n",
      "[19]\ttrain-auc:1\ttest-auc:0.999945\n",
      "[20]\ttrain-auc:1\ttest-auc:0.999943\n",
      "[21]\ttrain-auc:1\ttest-auc:0.999974\n",
      "[22]\ttrain-auc:1\ttest-auc:0.999968\n",
      "[23]\ttrain-auc:1\ttest-auc:0.999949\n",
      "[24]\ttrain-auc:1\ttest-auc:0.999942\n",
      "[25]\ttrain-auc:1\ttest-auc:0.999937\n",
      "[26]\ttrain-auc:1\ttest-auc:0.999937\n",
      "[27]\ttrain-auc:1\ttest-auc:0.999877\n",
      "[28]\ttrain-auc:1\ttest-auc:0.999871\n",
      "[29]\ttrain-auc:1\ttest-auc:0.999843\n"
     ]
    }
   ],
   "source": [
    "import xgboost as xgb\n",
    "\n",
    "dtrain = xgb.DMatrix(X_train, label=y_train)\n",
    "dtest = xgb.DMatrix(X_test, label=y_test)\n",
    "\n",
    "param = {\n",
    "    'objective': 'binary:logistic',\n",
    "    'eval_metric': 'auc',\n",
    "}\n",
    "\n",
    "evallist = [\n",
    "    (dtrain, 'train'),\n",
    "    (dtest, 'test'),\n",
    "]\n",
    "num_rounds = 30\n",
    "bst = xgb.train(param, dtrain, num_rounds, evallist)"
   ]
  },
  {
   "cell_type": "code",
   "execution_count": 13,
   "metadata": {
    "scrolled": false
   },
   "outputs": [
    {
     "name": "stdout",
     "output_type": "stream",
     "text": [
      "Learning rate set to 0.391669\n",
      "0:\tlearn: 0.0187141\ttest: 0.0187057\tbest: 0.0187057 (0)\ttotal: 197ms\tremaining: 19.5s\n",
      "1:\tlearn: 0.0015924\ttest: 0.0016278\tbest: 0.0016278 (1)\ttotal: 326ms\tremaining: 16s\n",
      "2:\tlearn: 0.0003746\ttest: 0.0004249\tbest: 0.0004249 (2)\ttotal: 461ms\tremaining: 14.9s\n",
      "3:\tlearn: 0.0002033\ttest: 0.0002686\tbest: 0.0002686 (3)\ttotal: 595ms\tremaining: 14.3s\n",
      "4:\tlearn: 0.0001105\ttest: 0.0001893\tbest: 0.0001893 (4)\ttotal: 731ms\tremaining: 13.9s\n",
      "5:\tlearn: 0.0000926\ttest: 0.0001800\tbest: 0.0001800 (5)\ttotal: 859ms\tremaining: 13.5s\n",
      "6:\tlearn: 0.0000859\ttest: 0.0001778\tbest: 0.0001778 (6)\ttotal: 1.03s\tremaining: 13.7s\n",
      "7:\tlearn: 0.0000718\ttest: 0.0001760\tbest: 0.0001760 (7)\ttotal: 1.2s\tremaining: 13.8s\n",
      "8:\tlearn: 0.0000539\ttest: 0.0001744\tbest: 0.0001744 (8)\ttotal: 1.39s\tremaining: 14.1s\n",
      "9:\tlearn: 0.0000417\ttest: 0.0001691\tbest: 0.0001691 (9)\ttotal: 1.52s\tremaining: 13.7s\n",
      "10:\tlearn: 0.0000372\ttest: 0.0001733\tbest: 0.0001691 (9)\ttotal: 1.66s\tremaining: 13.4s\n",
      "11:\tlearn: 0.0000349\ttest: 0.0001728\tbest: 0.0001691 (9)\ttotal: 1.8s\tremaining: 13.2s\n",
      "12:\tlearn: 0.0000313\ttest: 0.0001687\tbest: 0.0001687 (12)\ttotal: 1.93s\tremaining: 12.9s\n",
      "13:\tlearn: 0.0000305\ttest: 0.0001682\tbest: 0.0001682 (13)\ttotal: 2.06s\tremaining: 12.7s\n",
      "14:\tlearn: 0.0000274\ttest: 0.0001659\tbest: 0.0001659 (14)\ttotal: 2.23s\tremaining: 12.6s\n",
      "15:\tlearn: 0.0000234\ttest: 0.0001646\tbest: 0.0001646 (15)\ttotal: 2.39s\tremaining: 12.5s\n",
      "16:\tlearn: 0.0000233\ttest: 0.0001641\tbest: 0.0001641 (16)\ttotal: 2.52s\tremaining: 12.3s\n",
      "17:\tlearn: 0.0000225\ttest: 0.0001638\tbest: 0.0001638 (17)\ttotal: 2.64s\tremaining: 12s\n",
      "18:\tlearn: 0.0000195\ttest: 0.0001580\tbest: 0.0001580 (18)\ttotal: 2.78s\tremaining: 11.9s\n",
      "19:\tlearn: 0.0000171\ttest: 0.0001588\tbest: 0.0001580 (18)\ttotal: 2.91s\tremaining: 11.7s\n",
      "20:\tlearn: 0.0000166\ttest: 0.0001610\tbest: 0.0001580 (18)\ttotal: 3.07s\tremaining: 11.6s\n",
      "21:\tlearn: 0.0000165\ttest: 0.0001596\tbest: 0.0001580 (18)\ttotal: 3.3s\tremaining: 11.7s\n",
      "22:\tlearn: 0.0000150\ttest: 0.0001579\tbest: 0.0001579 (22)\ttotal: 3.46s\tremaining: 11.6s\n",
      "23:\tlearn: 0.0000145\ttest: 0.0001552\tbest: 0.0001552 (23)\ttotal: 3.63s\tremaining: 11.5s\n",
      "24:\tlearn: 0.0000136\ttest: 0.0001587\tbest: 0.0001552 (23)\ttotal: 3.78s\tremaining: 11.4s\n",
      "25:\tlearn: 0.0000123\ttest: 0.0001556\tbest: 0.0001552 (23)\ttotal: 3.94s\tremaining: 11.2s\n",
      "26:\tlearn: 0.0000111\ttest: 0.0001548\tbest: 0.0001548 (26)\ttotal: 4.08s\tremaining: 11s\n",
      "27:\tlearn: 0.0000099\ttest: 0.0001543\tbest: 0.0001543 (27)\ttotal: 4.23s\tremaining: 10.9s\n",
      "28:\tlearn: 0.0000095\ttest: 0.0001563\tbest: 0.0001543 (27)\ttotal: 4.39s\tremaining: 10.8s\n",
      "29:\tlearn: 0.0000084\ttest: 0.0001555\tbest: 0.0001543 (27)\ttotal: 4.53s\tremaining: 10.6s\n",
      "30:\tlearn: 0.0000078\ttest: 0.0001558\tbest: 0.0001543 (27)\ttotal: 4.66s\tremaining: 10.4s\n",
      "31:\tlearn: 0.0000075\ttest: 0.0001570\tbest: 0.0001543 (27)\ttotal: 4.84s\tremaining: 10.3s\n",
      "32:\tlearn: 0.0000072\ttest: 0.0001570\tbest: 0.0001543 (27)\ttotal: 4.98s\tremaining: 10.1s\n",
      "33:\tlearn: 0.0000069\ttest: 0.0001592\tbest: 0.0001543 (27)\ttotal: 5.12s\tremaining: 9.93s\n",
      "34:\tlearn: 0.0000063\ttest: 0.0001591\tbest: 0.0001543 (27)\ttotal: 5.25s\tremaining: 9.74s\n",
      "35:\tlearn: 0.0000061\ttest: 0.0001604\tbest: 0.0001543 (27)\ttotal: 5.38s\tremaining: 9.57s\n",
      "36:\tlearn: 0.0000060\ttest: 0.0001603\tbest: 0.0001543 (27)\ttotal: 5.56s\tremaining: 9.46s\n",
      "37:\tlearn: 0.0000059\ttest: 0.0001610\tbest: 0.0001543 (27)\ttotal: 5.7s\tremaining: 9.3s\n",
      "38:\tlearn: 0.0000056\ttest: 0.0001610\tbest: 0.0001543 (27)\ttotal: 5.85s\tremaining: 9.14s\n",
      "39:\tlearn: 0.0000054\ttest: 0.0001627\tbest: 0.0001543 (27)\ttotal: 6s\tremaining: 9s\n",
      "40:\tlearn: 0.0000053\ttest: 0.0001633\tbest: 0.0001543 (27)\ttotal: 6.15s\tremaining: 8.85s\n",
      "41:\tlearn: 0.0000053\ttest: 0.0001633\tbest: 0.0001543 (27)\ttotal: 6.29s\tremaining: 8.68s\n",
      "42:\tlearn: 0.0000052\ttest: 0.0001649\tbest: 0.0001543 (27)\ttotal: 6.42s\tremaining: 8.51s\n",
      "43:\tlearn: 0.0000052\ttest: 0.0001642\tbest: 0.0001543 (27)\ttotal: 6.58s\tremaining: 8.37s\n",
      "44:\tlearn: 0.0000051\ttest: 0.0001634\tbest: 0.0001543 (27)\ttotal: 6.72s\tremaining: 8.22s\n",
      "45:\tlearn: 0.0000050\ttest: 0.0001634\tbest: 0.0001543 (27)\ttotal: 6.87s\tremaining: 8.06s\n",
      "46:\tlearn: 0.0000049\ttest: 0.0001637\tbest: 0.0001543 (27)\ttotal: 7.01s\tremaining: 7.91s\n",
      "47:\tlearn: 0.0000049\ttest: 0.0001650\tbest: 0.0001543 (27)\ttotal: 7.19s\tremaining: 7.79s\n",
      "48:\tlearn: 0.0000047\ttest: 0.0001653\tbest: 0.0001543 (27)\ttotal: 7.33s\tremaining: 7.63s\n",
      "49:\tlearn: 0.0000045\ttest: 0.0001661\tbest: 0.0001543 (27)\ttotal: 7.47s\tremaining: 7.47s\n",
      "50:\tlearn: 0.0000043\ttest: 0.0001666\tbest: 0.0001543 (27)\ttotal: 7.61s\tremaining: 7.32s\n",
      "51:\tlearn: 0.0000042\ttest: 0.0001676\tbest: 0.0001543 (27)\ttotal: 7.79s\tremaining: 7.19s\n",
      "52:\tlearn: 0.0000041\ttest: 0.0001666\tbest: 0.0001543 (27)\ttotal: 7.92s\tremaining: 7.02s\n",
      "53:\tlearn: 0.0000040\ttest: 0.0001671\tbest: 0.0001543 (27)\ttotal: 8.07s\tremaining: 6.87s\n",
      "54:\tlearn: 0.0000040\ttest: 0.0001674\tbest: 0.0001543 (27)\ttotal: 8.24s\tremaining: 6.74s\n",
      "55:\tlearn: 0.0000039\ttest: 0.0001679\tbest: 0.0001543 (27)\ttotal: 8.38s\tremaining: 6.58s\n",
      "56:\tlearn: 0.0000038\ttest: 0.0001692\tbest: 0.0001543 (27)\ttotal: 8.52s\tremaining: 6.42s\n",
      "57:\tlearn: 0.0000035\ttest: 0.0001683\tbest: 0.0001543 (27)\ttotal: 8.7s\tremaining: 6.3s\n",
      "58:\tlearn: 0.0000035\ttest: 0.0001674\tbest: 0.0001543 (27)\ttotal: 8.84s\tremaining: 6.14s\n",
      "59:\tlearn: 0.0000034\ttest: 0.0001681\tbest: 0.0001543 (27)\ttotal: 8.98s\tremaining: 5.98s\n",
      "60:\tlearn: 0.0000034\ttest: 0.0001684\tbest: 0.0001543 (27)\ttotal: 9.11s\tremaining: 5.82s\n",
      "61:\tlearn: 0.0000033\ttest: 0.0001682\tbest: 0.0001543 (27)\ttotal: 9.23s\tremaining: 5.66s\n",
      "62:\tlearn: 0.0000033\ttest: 0.0001682\tbest: 0.0001543 (27)\ttotal: 9.37s\tremaining: 5.5s\n",
      "63:\tlearn: 0.0000033\ttest: 0.0001686\tbest: 0.0001543 (27)\ttotal: 9.51s\tremaining: 5.35s\n",
      "64:\tlearn: 0.0000031\ttest: 0.0001695\tbest: 0.0001543 (27)\ttotal: 9.65s\tremaining: 5.19s\n",
      "65:\tlearn: 0.0000031\ttest: 0.0001705\tbest: 0.0001543 (27)\ttotal: 9.79s\tremaining: 5.04s\n",
      "66:\tlearn: 0.0000029\ttest: 0.0001701\tbest: 0.0001543 (27)\ttotal: 9.92s\tremaining: 4.88s\n",
      "67:\tlearn: 0.0000029\ttest: 0.0001703\tbest: 0.0001543 (27)\ttotal: 10.1s\tremaining: 4.73s\n",
      "68:\tlearn: 0.0000028\ttest: 0.0001699\tbest: 0.0001543 (27)\ttotal: 10.2s\tremaining: 4.57s\n",
      "69:\tlearn: 0.0000028\ttest: 0.0001696\tbest: 0.0001543 (27)\ttotal: 10.3s\tremaining: 4.42s\n",
      "70:\tlearn: 0.0000028\ttest: 0.0001698\tbest: 0.0001543 (27)\ttotal: 10.4s\tremaining: 4.26s\n",
      "71:\tlearn: 0.0000028\ttest: 0.0001698\tbest: 0.0001543 (27)\ttotal: 10.6s\tremaining: 4.11s\n",
      "72:\tlearn: 0.0000027\ttest: 0.0001692\tbest: 0.0001543 (27)\ttotal: 10.7s\tremaining: 3.96s\n",
      "73:\tlearn: 0.0000027\ttest: 0.0001691\tbest: 0.0001543 (27)\ttotal: 10.8s\tremaining: 3.81s\n",
      "74:\tlearn: 0.0000026\ttest: 0.0001699\tbest: 0.0001543 (27)\ttotal: 11s\tremaining: 3.66s\n",
      "75:\tlearn: 0.0000025\ttest: 0.0001701\tbest: 0.0001543 (27)\ttotal: 11.1s\tremaining: 3.52s\n",
      "76:\tlearn: 0.0000025\ttest: 0.0001704\tbest: 0.0001543 (27)\ttotal: 11.3s\tremaining: 3.37s\n",
      "77:\tlearn: 0.0000025\ttest: 0.0001701\tbest: 0.0001543 (27)\ttotal: 11.4s\tremaining: 3.22s\n",
      "78:\tlearn: 0.0000024\ttest: 0.0001692\tbest: 0.0001543 (27)\ttotal: 11.6s\tremaining: 3.08s\n",
      "79:\tlearn: 0.0000023\ttest: 0.0001696\tbest: 0.0001543 (27)\ttotal: 11.7s\tremaining: 2.94s\n",
      "80:\tlearn: 0.0000023\ttest: 0.0001698\tbest: 0.0001543 (27)\ttotal: 11.9s\tremaining: 2.79s\n",
      "81:\tlearn: 0.0000023\ttest: 0.0001699\tbest: 0.0001543 (27)\ttotal: 12s\tremaining: 2.64s\n",
      "82:\tlearn: 0.0000023\ttest: 0.0001700\tbest: 0.0001543 (27)\ttotal: 12.2s\tremaining: 2.5s\n",
      "83:\tlearn: 0.0000021\ttest: 0.0001684\tbest: 0.0001543 (27)\ttotal: 12.4s\tremaining: 2.35s\n",
      "84:\tlearn: 0.0000020\ttest: 0.0001687\tbest: 0.0001543 (27)\ttotal: 12.5s\tremaining: 2.2s\n",
      "85:\tlearn: 0.0000020\ttest: 0.0001687\tbest: 0.0001543 (27)\ttotal: 12.6s\tremaining: 2.05s\n",
      "86:\tlearn: 0.0000019\ttest: 0.0001691\tbest: 0.0001543 (27)\ttotal: 12.7s\tremaining: 1.9s\n",
      "87:\tlearn: 0.0000019\ttest: 0.0001692\tbest: 0.0001543 (27)\ttotal: 12.9s\tremaining: 1.76s\n",
      "88:\tlearn: 0.0000019\ttest: 0.0001694\tbest: 0.0001543 (27)\ttotal: 13.1s\tremaining: 1.62s\n",
      "89:\tlearn: 0.0000019\ttest: 0.0001696\tbest: 0.0001543 (27)\ttotal: 13.2s\tremaining: 1.47s\n",
      "90:\tlearn: 0.0000019\ttest: 0.0001693\tbest: 0.0001543 (27)\ttotal: 13.4s\tremaining: 1.32s\n",
      "91:\tlearn: 0.0000019\ttest: 0.0001694\tbest: 0.0001543 (27)\ttotal: 13.5s\tremaining: 1.17s\n",
      "92:\tlearn: 0.0000018\ttest: 0.0001693\tbest: 0.0001543 (27)\ttotal: 13.6s\tremaining: 1.02s\n",
      "93:\tlearn: 0.0000018\ttest: 0.0001695\tbest: 0.0001543 (27)\ttotal: 13.8s\tremaining: 878ms\n",
      "94:\tlearn: 0.0000018\ttest: 0.0001700\tbest: 0.0001543 (27)\ttotal: 13.9s\tremaining: 732ms\n"
     ]
    },
    {
     "name": "stdout",
     "output_type": "stream",
     "text": [
      "95:\tlearn: 0.0000018\ttest: 0.0001707\tbest: 0.0001543 (27)\ttotal: 14.1s\tremaining: 586ms\n",
      "96:\tlearn: 0.0000018\ttest: 0.0001707\tbest: 0.0001543 (27)\ttotal: 14.2s\tremaining: 439ms\n",
      "97:\tlearn: 0.0000018\ttest: 0.0001706\tbest: 0.0001543 (27)\ttotal: 14.3s\tremaining: 292ms\n",
      "98:\tlearn: 0.0000017\ttest: 0.0001704\tbest: 0.0001543 (27)\ttotal: 14.5s\tremaining: 146ms\n",
      "99:\tlearn: 0.0000017\ttest: 0.0001702\tbest: 0.0001543 (27)\ttotal: 14.6s\tremaining: 0us\n",
      "\n",
      "bestTest = 0.0001542616724\n",
      "bestIteration = 27\n",
      "\n",
      "Shrink model to first 28 iterations.\n"
     ]
    }
   ],
   "source": [
    "from catboost import CatBoostClassifier\n",
    "\n",
    "catbst = CatBoostClassifier(iterations=100).fit(X_train, y_train, eval_set=(X_test, y_test))"
   ]
  },
  {
   "cell_type": "code",
   "execution_count": 14,
   "metadata": {},
   "outputs": [
    {
     "name": "stderr",
     "output_type": "stream",
     "text": [
      "/usr/local/lib/python3.7/site-packages/sklearn/linear_model/base.py:266: RuntimeWarning: overflow encountered in exp\n",
      "  np.exp(prob, prob)\n"
     ]
    },
    {
     "data": {
      "image/png": "[encoded data removed]",
      "text/plain": [
       "<Figure size 432x288 with 1 Axes>"
      ]
     },
     "metadata": {},
     "output_type": "display_data"
    }
   ],
   "source": [
    "from sklearn.metrics import roc_curve, auc, precision_recall_curve\n",
    "\n",
    "y_score_logreg = logreg.predict_proba(X_test)[:, 1]\n",
    "\n",
    "fpr_logreg, tpr_logreg, _ = roc_curve(y_test, y_score_logreg)\n",
    "roc_auc_logreg = auc(fpr_logreg, tpr_logreg)\n",
    "\n",
    "y_score_xgb = bst.predict(dtest)\n",
    "\n",
    "fpr_xgb, tpr_xgb, _ = roc_curve(y_test, y_score_xgb)\n",
    "roc_auc_xgb = auc(fpr_xgb, tpr_xgb)\n",
    "\n",
    "y_score_cat = catbst.predict_proba(X_test)[:, 1]\n",
    "\n",
    "fpr_cat, tpr_cat, _ = roc_curve(y_test, y_score_cat)\n",
    "roc_auc_cat = auc(fpr_cat, tpr_cat)\n",
    "\n",
    "plt.figure()\n",
    "lw = 2\n",
    "plt.plot(fpr_logreg, tpr_logreg, color='darkorange',\n",
    "         lw=lw, label='Logreg ROC curve (area = %0.4f)' % roc_auc_logreg)\n",
    "plt.plot(fpr_xgb, tpr_xgb, color='green',\n",
    "         lw=lw, label='XGBoost ROC curve (area = %0.4f)' % roc_auc_xgb)\n",
    "plt.plot(fpr_cat, tpr_cat, color='green',\n",
    "         lw=lw, label='CatBoost ROC curve (area = %0.4f)' % roc_auc_cat)\n",
    "plt.plot([0, 1], [0, 1], color='navy', lw=lw, linestyle='--')\n",
    "plt.xlim([0.0, 1.0])\n",
    "plt.ylim([0.0, 1.05])\n",
    "plt.xlabel('False Positive Rate')\n",
    "plt.ylabel('True Positive Rate')\n",
    "plt.title('Receiver operating characteristic')\n",
    "plt.legend(loc=\"lower right\")\n",
    "plt.show()"
   ]
  },
  {
   "cell_type": "code",
   "execution_count": 15,
   "metadata": {},
   "outputs": [
    {
     "data": {
      "text/plain": [
       "(0.0, 1.0)"
      ]
     },
     "execution_count": 15,
     "metadata": {},
     "output_type": "execute_result"
    },
    {
     "data": {
      "image/png": "[encoded data removed]",
      "text/plain": [
       "<Figure size 432x288 with 1 Axes>"
      ]
     },
     "metadata": {},
     "output_type": "display_data"
    }
   ],
   "source": [
    "precision_logreg, recall_logreg, _ = precision_recall_curve(y_test, y_score_logreg)\n",
    "\n",
    "precision_xgb, recall_xgb, _ = precision_recall_curve(y_test, y_score_xgb)\n",
    "\n",
    "plt.step(recall_logreg, precision_logreg, color='b', alpha=0.2,\n",
    "         where='post')\n",
    "plt.fill_between(recall_logreg, precision_logreg, step='post', alpha=0.2,\n",
    "                 color='b')\n",
    "\n",
    "plt.step(recall_xgb, precision_xgb, color='g', alpha=0.2,\n",
    "         where='post')\n",
    "plt.fill_between(recall_xgb, precision_xgb, step='post', alpha=0.2,\n",
    "                 color='g')\n",
    "\n",
    "plt.xlabel('Recall')\n",
    "plt.ylabel('Precision')\n",
    "plt.ylim([0.0, 1.05])\n",
    "plt.xlim([0.0, 1.0])\n",
    "# plt.title('2-class Precision-Recall curve: AP={0:0.2f}'.format(\n",
    "#           average_precision))"
   ]
  },
  {
   "cell_type": "code",
   "execution_count": 41,
   "metadata": {},
   "outputs": [
    {
     "name": "stderr",
     "output_type": "stream",
     "text": [
      "/usr/local/lib/python3.7/site-packages/sklearn/linear_model/base.py:266: RuntimeWarning: overflow encountered in exp\n",
      "  np.exp(prob, prob)\n"
     ]
    }
   ],
   "source": [
    "y_pred = logreg.predict_proba(X_test)[:, 1].reshape(-1, 1)\n",
    "\n",
    "np.savetxt(\"test_kdd99_logreg.txt\", np.hstack((y_pred, X_test)), fmt=\"%g\")"
   ]
  },
  {
   "cell_type": "code",
   "execution_count": 36,
   "metadata": {},
   "outputs": [],
   "source": [
    "coef = np.hstack((logreg.intercept_, logreg.coef_.reshape(-1)))\n",
    "np.savetxt(\"data.txt\", coef)"
   ]
  },
  {
   "cell_type": "code",
   "execution_count": 30,
   "metadata": {},
   "outputs": [
    {
     "name": "stdout",
     "output_type": "stream",
     "text": [
      "-4.534544288850625438e-02\r\n",
      "5.292506973677488236e-04\r\n",
      "9.673296999840219848e-08\r\n",
      "-1.484107917196090809e-01\r\n",
      "-7.734815110430924741e-03\r\n",
      "9.004152836814331428e-09\r\n",
      "-2.000986168097299272e-03\r\n",
      "-4.826859220296806473e-06\r\n",
      "-6.502061334503075418e-06\r\n",
      "1.047676510434300991e-07\r\n"
     ]
    }
   ],
   "source": [
    "!head logreg_coef.txt"
   ]
  },
  {
   "cell_type": "code",
   "execution_count": 32,
   "metadata": {},
   "outputs": [
    {
     "data": {
      "text/plain": [
       "array([[1.00000000e+000, 3.65039133e-089],\n",
       "       [1.00000000e+000, 4.28022469e-015],\n",
       "       [9.99999983e-001, 1.70494276e-008],\n",
       "       [1.00000000e+000, 3.65039133e-089],\n",
       "       [1.00000000e+000, 9.05473532e-170],\n",
       "       [1.00000000e+000, 4.57318886e-089],\n",
       "       [9.99996308e-001, 3.69187620e-006],\n",
       "       [9.99910521e-001, 8.94794577e-005],\n",
       "       [1.00000000e+000, 2.47782638e-260],\n",
       "       [1.00000000e+000, 3.65039133e-089]])"
      ]
     },
     "execution_count": 32,
     "metadata": {},
     "output_type": "execute_result"
    }
   ],
   "source": [
    "logreg.predict_proba(X_test[:10])"
   ]
  },
  {
   "cell_type": "code",
   "execution_count": 37,
   "metadata": {},
   "outputs": [],
   "source": [
    "catbst.save_model('model.cbm')"
   ]
  },
  {
   "cell_type": "code",
   "execution_count": null,
   "metadata": {},
   "outputs": [],
   "source": [
    "y_pred_catb = catbst.predict_proba(X_test)[:, 1].reshape(-1, 1)\n",
    "\n",
    "np.savetxt(\"test_kdd99_catboost.txt\", np.hstack((y_pred_catb, X_test)), fmt=\"%g\")"
   ]
  }
 ],
 "metadata": {
  "kernelspec": {
   "display_name": "Python 3",
   "language": "python",
   "name": "python3"
  },
  "language_info": {
   "codemirror_mode": {
    "name": "ipython",
    "version": 3
   },
   "file_extension": ".py",
   "mimetype": "text/x-python",
   "name": "python",
   "nbconvert_exporter": "python",
   "pygments_lexer": "ipython3",
   "version": "3.7.0"
  }
 },
 "nbformat": 4,
 "nbformat_minor": 2
}
