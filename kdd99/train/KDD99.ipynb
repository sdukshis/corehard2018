{
 "cells": [
  {
   "cell_type": "markdown",
   "metadata": {},
   "source": [
    "# Intrusion detection learning (KDD99)\n",
    "http://kdd.ics.uci.edu/databases/kddcup99/kddcup99.html"
   ]
  },
  {
   "cell_type": "code",
   "execution_count": 1,
   "metadata": {},
   "outputs": [
    {
     "name": "stdout",
     "output_type": "stream",
     "text": [
      "Populating the interactive namespace from numpy and matplotlib\n"
     ]
    }
   ],
   "source": [
    "%pylab inline\n",
    "import pandas as pd\n",
    "import logging"
   ]
  },
  {
   "cell_type": "code",
   "execution_count": 2,
   "metadata": {},
   "outputs": [],
   "source": [
    "with open('../data/kddcup.names', 'r') as fd:\n",
    "    line = fd.readline().strip()\n",
    "    attack_types = line.split(',')\n",
    "    feature_names = list()\n",
    "    symbolic_feat = list()\n",
    "    continuous_feat = list()\n",
    "    for line in fd.readlines():\n",
    "        feat_name, feat_type = line.strip().split(': ', 2)\n",
    "        feature_names.append(feat_name)\n",
    "        if feat_type == 'symbolic.':\n",
    "            symbolic_feat.append(feat_name)\n",
    "        elif feat_type == 'continuous.':\n",
    "            continuous_feat.append(feat_name)\n",
    "        else:\n",
    "            logging.warning(\"Unsupported feature type: %s\", feat_type)"
   ]
  },
  {
   "cell_type": "code",
   "execution_count": 3,
   "metadata": {},
   "outputs": [],
   "source": [
    "ds = pd.read_csv('../data/kddcup.data_10_percent.gz', names=feature_names + ['class'])"
   ]
  },
  {
   "cell_type": "code",
   "execution_count": 4,
   "metadata": {},
   "outputs": [
    {
     "data": {
      "text/html": [
       "<div>\n",
       "<style scoped>\n",
       "    .dataframe tbody tr th:only-of-type {\n",
       "        vertical-align: middle;\n",
       "    }\n",
       "\n",
       "    .dataframe tbody tr th {\n",
       "        vertical-align: top;\n",
       "    }\n",
       "\n",
       "    .dataframe thead th {\n",
       "        text-align: right;\n",
       "    }\n",
       "</style>\n",
       "<table border=\"1\" class=\"dataframe\">\n",
       "  <thead>\n",
       "    <tr style=\"text-align: right;\">\n",
       "      <th></th>\n",
       "      <th>duration</th>\n",
       "      <th>protocol_type</th>\n",
       "      <th>service</th>\n",
       "      <th>flag</th>\n",
       "      <th>src_bytes</th>\n",
       "      <th>dst_bytes</th>\n",
       "      <th>land</th>\n",
       "      <th>wrong_fragment</th>\n",
       "      <th>urgent</th>\n",
       "      <th>hot</th>\n",
       "      <th>...</th>\n",
       "      <th>dst_host_srv_count</th>\n",
       "      <th>dst_host_same_srv_rate</th>\n",
       "      <th>dst_host_diff_srv_rate</th>\n",
       "      <th>dst_host_same_src_port_rate</th>\n",
       "      <th>dst_host_srv_diff_host_rate</th>\n",
       "      <th>dst_host_serror_rate</th>\n",
       "      <th>dst_host_srv_serror_rate</th>\n",
       "      <th>dst_host_rerror_rate</th>\n",
       "      <th>dst_host_srv_rerror_rate</th>\n",
       "      <th>class</th>\n",
       "    </tr>\n",
       "  </thead>\n",
       "  <tbody>\n",
       "    <tr>\n",
       "      <th>0</th>\n",
       "      <td>0</td>\n",
       "      <td>tcp</td>\n",
       "      <td>http</td>\n",
       "      <td>SF</td>\n",
       "      <td>181</td>\n",
       "      <td>5450</td>\n",
       "      <td>0</td>\n",
       "      <td>0</td>\n",
       "      <td>0</td>\n",
       "      <td>0</td>\n",
       "      <td>...</td>\n",
       "      <td>9</td>\n",
       "      <td>1.0</td>\n",
       "      <td>0.0</td>\n",
       "      <td>0.11</td>\n",
       "      <td>0.0</td>\n",
       "      <td>0.0</td>\n",
       "      <td>0.0</td>\n",
       "      <td>0.0</td>\n",
       "      <td>0.0</td>\n",
       "      <td>normal.</td>\n",
       "    </tr>\n",
       "    <tr>\n",
       "      <th>1</th>\n",
       "      <td>0</td>\n",
       "      <td>tcp</td>\n",
       "      <td>http</td>\n",
       "      <td>SF</td>\n",
       "      <td>239</td>\n",
       "      <td>486</td>\n",
       "      <td>0</td>\n",
       "      <td>0</td>\n",
       "      <td>0</td>\n",
       "      <td>0</td>\n",
       "      <td>...</td>\n",
       "      <td>19</td>\n",
       "      <td>1.0</td>\n",
       "      <td>0.0</td>\n",
       "      <td>0.05</td>\n",
       "      <td>0.0</td>\n",
       "      <td>0.0</td>\n",
       "      <td>0.0</td>\n",
       "      <td>0.0</td>\n",
       "      <td>0.0</td>\n",
       "      <td>normal.</td>\n",
       "    </tr>\n",
       "    <tr>\n",
       "      <th>2</th>\n",
       "      <td>0</td>\n",
       "      <td>tcp</td>\n",
       "      <td>http</td>\n",
       "      <td>SF</td>\n",
       "      <td>235</td>\n",
       "      <td>1337</td>\n",
       "      <td>0</td>\n",
       "      <td>0</td>\n",
       "      <td>0</td>\n",
       "      <td>0</td>\n",
       "      <td>...</td>\n",
       "      <td>29</td>\n",
       "      <td>1.0</td>\n",
       "      <td>0.0</td>\n",
       "      <td>0.03</td>\n",
       "      <td>0.0</td>\n",
       "      <td>0.0</td>\n",
       "      <td>0.0</td>\n",
       "      <td>0.0</td>\n",
       "      <td>0.0</td>\n",
       "      <td>normal.</td>\n",
       "    </tr>\n",
       "    <tr>\n",
       "      <th>3</th>\n",
       "      <td>0</td>\n",
       "      <td>tcp</td>\n",
       "      <td>http</td>\n",
       "      <td>SF</td>\n",
       "      <td>219</td>\n",
       "      <td>1337</td>\n",
       "      <td>0</td>\n",
       "      <td>0</td>\n",
       "      <td>0</td>\n",
       "      <td>0</td>\n",
       "      <td>...</td>\n",
       "      <td>39</td>\n",
       "      <td>1.0</td>\n",
       "      <td>0.0</td>\n",
       "      <td>0.03</td>\n",
       "      <td>0.0</td>\n",
       "      <td>0.0</td>\n",
       "      <td>0.0</td>\n",
       "      <td>0.0</td>\n",
       "      <td>0.0</td>\n",
       "      <td>normal.</td>\n",
       "    </tr>\n",
       "    <tr>\n",
       "      <th>4</th>\n",
       "      <td>0</td>\n",
       "      <td>tcp</td>\n",
       "      <td>http</td>\n",
       "      <td>SF</td>\n",
       "      <td>217</td>\n",
       "      <td>2032</td>\n",
       "      <td>0</td>\n",
       "      <td>0</td>\n",
       "      <td>0</td>\n",
       "      <td>0</td>\n",
       "      <td>...</td>\n",
       "      <td>49</td>\n",
       "      <td>1.0</td>\n",
       "      <td>0.0</td>\n",
       "      <td>0.02</td>\n",
       "      <td>0.0</td>\n",
       "      <td>0.0</td>\n",
       "      <td>0.0</td>\n",
       "      <td>0.0</td>\n",
       "      <td>0.0</td>\n",
       "      <td>normal.</td>\n",
       "    </tr>\n",
       "  </tbody>\n",
       "</table>\n",
       "<p>5 rows × 42 columns</p>\n",
       "</div>"
      ],
      "text/plain": [
       "   duration protocol_type service flag  src_bytes  dst_bytes  land  \\\n",
       "0         0           tcp    http   SF        181       5450     0   \n",
       "1         0           tcp    http   SF        239        486     0   \n",
       "2         0           tcp    http   SF        235       1337     0   \n",
       "3         0           tcp    http   SF        219       1337     0   \n",
       "4         0           tcp    http   SF        217       2032     0   \n",
       "\n",
       "   wrong_fragment  urgent  hot   ...     dst_host_srv_count  \\\n",
       "0               0       0    0   ...                      9   \n",
       "1               0       0    0   ...                     19   \n",
       "2               0       0    0   ...                     29   \n",
       "3               0       0    0   ...                     39   \n",
       "4               0       0    0   ...                     49   \n",
       "\n",
       "   dst_host_same_srv_rate  dst_host_diff_srv_rate  \\\n",
       "0                     1.0                     0.0   \n",
       "1                     1.0                     0.0   \n",
       "2                     1.0                     0.0   \n",
       "3                     1.0                     0.0   \n",
       "4                     1.0                     0.0   \n",
       "\n",
       "   dst_host_same_src_port_rate  dst_host_srv_diff_host_rate  \\\n",
       "0                         0.11                          0.0   \n",
       "1                         0.05                          0.0   \n",
       "2                         0.03                          0.0   \n",
       "3                         0.03                          0.0   \n",
       "4                         0.02                          0.0   \n",
       "\n",
       "   dst_host_serror_rate  dst_host_srv_serror_rate  dst_host_rerror_rate  \\\n",
       "0                   0.0                       0.0                   0.0   \n",
       "1                   0.0                       0.0                   0.0   \n",
       "2                   0.0                       0.0                   0.0   \n",
       "3                   0.0                       0.0                   0.0   \n",
       "4                   0.0                       0.0                   0.0   \n",
       "\n",
       "   dst_host_srv_rerror_rate    class  \n",
       "0                       0.0  normal.  \n",
       "1                       0.0  normal.  \n",
       "2                       0.0  normal.  \n",
       "3                       0.0  normal.  \n",
       "4                       0.0  normal.  \n",
       "\n",
       "[5 rows x 42 columns]"
      ]
     },
     "execution_count": 4,
     "metadata": {},
     "output_type": "execute_result"
    }
   ],
   "source": [
    "ds.head()"
   ]
  },
  {
   "cell_type": "code",
   "execution_count": 5,
   "metadata": {},
   "outputs": [
    {
     "data": {
      "text/plain": [
       "smurf.              280790\n",
       "neptune.            107201\n",
       "normal.              97278\n",
       "back.                 2203\n",
       "satan.                1589\n",
       "ipsweep.              1247\n",
       "portsweep.            1040\n",
       "warezclient.          1020\n",
       "teardrop.              979\n",
       "pod.                   264\n",
       "nmap.                  231\n",
       "guess_passwd.           53\n",
       "buffer_overflow.        30\n",
       "land.                   21\n",
       "warezmaster.            20\n",
       "imap.                   12\n",
       "rootkit.                10\n",
       "loadmodule.              9\n",
       "ftp_write.               8\n",
       "multihop.                7\n",
       "phf.                     4\n",
       "perl.                    3\n",
       "spy.                     2\n",
       "Name: class, dtype: int64"
      ]
     },
     "execution_count": 5,
     "metadata": {},
     "output_type": "execute_result"
    }
   ],
   "source": [
    "ds['class'].value_counts()"
   ]
  },
  {
   "cell_type": "code",
   "execution_count": 6,
   "metadata": {},
   "outputs": [],
   "source": [
    "ds['target'] = ds['class'].map(lambda x: 1 if x == 'portsweep.' else 0)"
   ]
  },
  {
   "cell_type": "code",
   "execution_count": 27,
   "metadata": {},
   "outputs": [
    {
     "data": {
      "text/plain": [
       "494021"
      ]
     },
     "execution_count": 27,
     "metadata": {},
     "output_type": "execute_result"
    }
   ],
   "source": [
    "len(y)"
   ]
  },
  {
   "cell_type": "code",
   "execution_count": 28,
   "metadata": {},
   "outputs": [
    {
     "data": {
      "text/plain": [
       "1040"
      ]
     },
     "execution_count": 28,
     "metadata": {},
     "output_type": "execute_result"
    }
   ],
   "source": [
    "sum(y)"
   ]
  },
  {
   "cell_type": "code",
   "execution_count": 7,
   "metadata": {},
   "outputs": [
    {
     "data": {
      "text/plain": [
       "0.002105173666706476"
      ]
     },
     "execution_count": 7,
     "metadata": {},
     "output_type": "execute_result"
    }
   ],
   "source": [
    "X = ds[continuous_feat]\n",
    "y = ds['target']\n",
    "y.mean()"
   ]
  },
  {
   "cell_type": "code",
   "execution_count": 8,
   "metadata": {},
   "outputs": [
    {
     "name": "stderr",
     "output_type": "stream",
     "text": [
      "/usr/local/lib/python3.7/site-packages/sklearn/utils/__init__.py:4: DeprecationWarning: Using or importing the ABCs from 'collections' instead of from 'collections.abc' is deprecated, and in 3.8 it will stop working\n",
      "  from collections import Sequence\n"
     ]
    }
   ],
   "source": [
    "from sklearn.model_selection import train_test_split\n",
    "\n",
    "X_train, X_test, y_train, y_test = train_test_split(X, y, test_size=0.2)"
   ]
  },
  {
   "cell_type": "code",
   "execution_count": 9,
   "metadata": {},
   "outputs": [
    {
     "name": "stderr",
     "output_type": "stream",
     "text": [
      "/usr/local/lib/python3.7/site-packages/sklearn/svm/base.py:922: ConvergenceWarning: Liblinear failed to converge, increase the number of iterations.\n",
      "  \"the number of iterations.\", ConvergenceWarning)\n"
     ]
    }
   ],
   "source": [
    "from sklearn.linear_model import LogisticRegression\n",
    "\n",
    "logreg = LogisticRegression().fit(X_train, y_train)"
   ]
  },
  {
   "cell_type": "code",
   "execution_count": 10,
   "metadata": {},
   "outputs": [
    {
     "name": "stdout",
     "output_type": "stream",
     "text": [
      "[0]\ttrain-auc:0.979959\ttest-auc:0.976322\n",
      "[1]\ttrain-auc:0.995284\ttest-auc:0.988193\n",
      "[2]\ttrain-auc:0.996451\ttest-auc:0.991137\n",
      "[3]\ttrain-auc:0.996463\ttest-auc:0.991138\n",
      "[4]\ttrain-auc:0.996463\ttest-auc:0.991137\n",
      "[5]\ttrain-auc:0.997049\ttest-auc:0.991126\n",
      "[6]\ttrain-auc:0.997641\ttest-auc:0.991135\n",
      "[7]\ttrain-auc:0.997641\ttest-auc:0.991135\n",
      "[8]\ttrain-auc:0.997637\ttest-auc:0.991117\n",
      "[9]\ttrain-auc:0.999998\ttest-auc:0.999835\n",
      "[10]\ttrain-auc:0.999998\ttest-auc:0.999817\n",
      "[11]\ttrain-auc:0.999998\ttest-auc:0.999817\n",
      "[12]\ttrain-auc:0.999999\ttest-auc:0.999942\n",
      "[13]\ttrain-auc:0.999999\ttest-auc:0.999942\n",
      "[14]\ttrain-auc:1\ttest-auc:0.999943\n",
      "[15]\ttrain-auc:1\ttest-auc:0.999943\n",
      "[16]\ttrain-auc:1\ttest-auc:0.999942\n",
      "[17]\ttrain-auc:1\ttest-auc:0.999943\n",
      "[18]\ttrain-auc:1\ttest-auc:0.99994\n",
      "[19]\ttrain-auc:1\ttest-auc:0.99994\n",
      "[20]\ttrain-auc:1\ttest-auc:0.999936\n",
      "[21]\ttrain-auc:1\ttest-auc:0.999927\n",
      "[22]\ttrain-auc:1\ttest-auc:0.999926\n",
      "[23]\ttrain-auc:1\ttest-auc:0.99991\n",
      "[24]\ttrain-auc:1\ttest-auc:0.999981\n",
      "[25]\ttrain-auc:1\ttest-auc:0.999976\n",
      "[26]\ttrain-auc:1\ttest-auc:0.999972\n",
      "[27]\ttrain-auc:1\ttest-auc:0.999973\n",
      "[28]\ttrain-auc:1\ttest-auc:0.999971\n",
      "[29]\ttrain-auc:1\ttest-auc:0.999971\n"
     ]
    }
   ],
   "source": [
    "import xgboost as xgb\n",
    "\n",
    "dtrain = xgb.DMatrix(X_train, label=y_train)\n",
    "dtest = xgb.DMatrix(X_test, label=y_test)\n",
    "\n",
    "param = {\n",
    "    'objective': 'binary:logistic',\n",
    "    'eval_metric': 'auc',\n",
    "}\n",
    "\n",
    "evallist = [\n",
    "    (dtrain, 'train'),\n",
    "    (dtest, 'test'),\n",
    "]\n",
    "num_rounds = 30\n",
    "bst = xgb.train(param, dtrain, num_rounds, evallist)"
   ]
  },
  {
   "cell_type": "code",
   "execution_count": 25,
   "metadata": {
    "scrolled": false
   },
   "outputs": [
    {
     "name": "stdout",
     "output_type": "stream",
     "text": [
      "Learning rate set to 0.5\n",
      "0:\tlearn: 0.0069728\ttest: 0.0069972\tbest: 0.0069972 (0)\ttotal: 135ms\tremaining: 1.22s\n",
      "1:\tlearn: 0.0006979\ttest: 0.0007387\tbest: 0.0007387 (1)\ttotal: 266ms\tremaining: 1.06s\n",
      "2:\tlearn: 0.0003279\ttest: 0.0003873\tbest: 0.0003873 (2)\ttotal: 413ms\tremaining: 964ms\n",
      "3:\tlearn: 0.0002314\ttest: 0.0003273\tbest: 0.0003273 (3)\ttotal: 548ms\tremaining: 822ms\n",
      "4:\tlearn: 0.0001272\ttest: 0.0002057\tbest: 0.0002057 (4)\ttotal: 685ms\tremaining: 685ms\n",
      "5:\tlearn: 0.0000887\ttest: 0.0001924\tbest: 0.0001924 (5)\ttotal: 814ms\tremaining: 543ms\n",
      "6:\tlearn: 0.0000687\ttest: 0.0001699\tbest: 0.0001699 (6)\ttotal: 953ms\tremaining: 408ms\n",
      "7:\tlearn: 0.0000546\ttest: 0.0001507\tbest: 0.0001507 (7)\ttotal: 1.09s\tremaining: 273ms\n",
      "8:\tlearn: 0.0000487\ttest: 0.0001503\tbest: 0.0001503 (8)\ttotal: 1.23s\tremaining: 136ms\n",
      "9:\tlearn: 0.0000441\ttest: 0.0001525\tbest: 0.0001503 (8)\ttotal: 1.35s\tremaining: 0us\n",
      "\n",
      "bestTest = 0.0001502558117\n",
      "bestIteration = 8\n",
      "\n",
      "Shrink model to first 9 iterations.\n"
     ]
    }
   ],
   "source": [
    "from catboost import CatBoostClassifier\n",
    "\n",
    "catbst = CatBoostClassifier(iterations=10).fit(X_train, y_train, eval_set=(X_test, y_test))"
   ]
  },
  {
   "cell_type": "code",
   "execution_count": 29,
   "metadata": {},
   "outputs": [],
   "source": [
    "y_score_base = np.zeros(len(X_test))"
   ]
  },
  {
   "cell_type": "code",
   "execution_count": 26,
   "metadata": {},
   "outputs": [
    {
     "name": "stderr",
     "output_type": "stream",
     "text": [
      "/usr/local/lib/python3.7/site-packages/sklearn/linear_model/base.py:266: RuntimeWarning: overflow encountered in exp\n",
      "  np.exp(prob, prob)\n"
     ]
    },
    {
     "data": {
      "image/png": "[encoded data removed]",
      "text/plain": [
       "<Figure size 432x288 with 1 Axes>"
      ]
     },
     "metadata": {},
     "output_type": "display_data"
    }
   ],
   "source": [
    "from sklearn.metrics import roc_curve, auc, precision_recall_curve\n",
    "\n",
    "y_score_logreg = logreg.predict_proba(X_test)[:, 1]\n",
    "\n",
    "fpr_logreg, tpr_logreg, _ = roc_curve(y_test, y_score_logreg)\n",
    "roc_auc_logreg = auc(fpr_logreg, tpr_logreg)\n",
    "\n",
    "y_score_xgb = bst.predict(dtest)\n",
    "\n",
    "fpr_xgb, tpr_xgb, _ = roc_curve(y_test, y_score_xgb)\n",
    "roc_auc_xgb = auc(fpr_xgb, tpr_xgb)\n",
    "\n",
    "y_score_cat = catbst.predict_proba(X_test)[:, 1]\n",
    "\n",
    "fpr_cat, tpr_cat, _ = roc_curve(y_test, y_score_cat)\n",
    "roc_auc_cat = auc(fpr_cat, tpr_cat)\n",
    "\n",
    "plt.figure()\n",
    "lw = 2\n",
    "plt.plot(fpr_logreg, tpr_logreg, color='darkorange',\n",
    "         lw=lw, label='Logreg ROC curve (area = %0.6f)' % roc_auc_logreg)\n",
    "plt.plot(fpr_xgb, tpr_xgb, color='green',\n",
    "         lw=lw, label='XGBoost ROC curve (area = %0.6f)' % roc_auc_xgb)\n",
    "plt.plot(fpr_cat, tpr_cat, color='green',\n",
    "         lw=lw, label='CatBoost ROC curve (area = %0.6f)' % roc_auc_cat)\n",
    "plt.plot([0, 1], [0, 1], color='navy', lw=lw, linestyle='--')\n",
    "plt.xlim([0.0, 1.0])\n",
    "plt.ylim([0.0, 1.05])\n",
    "plt.xlabel('False Positive Rate')\n",
    "plt.ylabel('True Positive Rate')\n",
    "plt.title('Receiver operating characteristic')\n",
    "plt.legend(loc=\"lower right\")\n",
    "plt.show()"
   ]
  },
  {
   "cell_type": "code",
   "execution_count": 34,
   "metadata": {},
   "outputs": [
    {
     "data": {
      "image/png": "[encoded data removed]",
      "text/plain": [
       "<Figure size 720x432 with 1 Axes>"
      ]
     },
     "metadata": {},
     "output_type": "display_data"
    }
   ],
   "source": [
    "fpr_base, tpr_base, _ = roc_curve(y_test, y_score_base)\n",
    "roc_auc_base = auc(fpr_base, tpr_base)\n",
    "\n",
    "plt.figure(figsize=(10, 6))\n",
    "lw = 2\n",
    "plt.plot(fpr_cat, tpr_cat, color='darkorange',\n",
    "         lw=lw, label='Baseline ROC curve (area = %0.6f)' % roc_auc_cat)\n",
    "plt.plot([0, 1], [0, 1], color='navy', lw=lw, linestyle='--')\n",
    "plt.xlim([0.0, 1.0])\n",
    "plt.ylim([0.0, 1.05])\n",
    "plt.xlabel('False Positive Rate')\n",
    "plt.ylabel('True Positive Rate')\n",
    "plt.title('Receiver operating characteristic')\n",
    "plt.legend(loc=\"lower right\")\n",
    "plt.show()"
   ]
  },
  {
   "cell_type": "code",
   "execution_count": 24,
   "metadata": {},
   "outputs": [
    {
     "data": {
      "text/plain": [
       "(0.0, 1.0)"
      ]
     },
     "execution_count": 24,
     "metadata": {},
     "output_type": "execute_result"
    },
    {
     "data": {
      "image/png": "[encoded data removed]",
      "text/plain": [
       "<Figure size 432x288 with 1 Axes>"
      ]
     },
     "metadata": {},
     "output_type": "display_data"
    }
   ],
   "source": [
    "precision_logreg, recall_logreg, _ = precision_recall_curve(y_test, y_score_logreg)\n",
    "\n",
    "precision_xgb, recall_xgb, _ = precision_recall_curve(y_test, y_score_xgb)\n",
    "\n",
    "plt.step(recall_logreg, precision_logreg, color='b', alpha=0.2,\n",
    "         where='post')\n",
    "plt.fill_between(recall_logreg, precision_logreg, step='post', alpha=0.2,\n",
    "                 color='b')\n",
    "\n",
    "plt.step(recall_xgb, precision_xgb, color='g', alpha=0.2,\n",
    "         where='post')\n",
    "plt.fill_between(recall_xgb, precision_xgb, step='post', alpha=0.2,\n",
    "                 color='g')\n",
    "\n",
    "plt.xlabel('Recall')\n",
    "plt.ylabel('Precision')\n",
    "plt.ylim([0.0, 1.05])\n",
    "plt.xlim([0.0, 1.0])\n",
    "# plt.title('2-class Precision-Recall curve: AP={0:0.2f}'.format(\n",
    "#           average_precision))"
   ]
  },
  {
   "cell_type": "code",
   "execution_count": 14,
   "metadata": {},
   "outputs": [
    {
     "name": "stderr",
     "output_type": "stream",
     "text": [
      "/usr/local/lib/python3.7/site-packages/sklearn/linear_model/base.py:266: RuntimeWarning: overflow encountered in exp\n",
      "  np.exp(prob, prob)\n"
     ]
    }
   ],
   "source": [
    "y_pred = logreg.predict_proba(X_test)[:, 1].reshape(-1, 1)\n",
    "\n",
    "np.savetxt(\"test_kdd99_logreg.txt\", np.hstack((y_pred, X_test)), fmt=\"%g\")"
   ]
  },
  {
   "cell_type": "code",
   "execution_count": 15,
   "metadata": {},
   "outputs": [],
   "source": [
    "coef = np.hstack((logreg.intercept_, logreg.coef_.reshape(-1)))\n",
    "np.savetxt(\"data.txt\", coef)"
   ]
  },
  {
   "cell_type": "code",
   "execution_count": 16,
   "metadata": {},
   "outputs": [
    {
     "name": "stdout",
     "output_type": "stream",
     "text": [
      "-4.534544288850625438e-02\r\n",
      "5.292506973677488236e-04\r\n",
      "9.673296999840219848e-08\r\n",
      "-1.484107917196090809e-01\r\n",
      "-7.734815110430924741e-03\r\n",
      "9.004152836814331428e-09\r\n",
      "-2.000986168097299272e-03\r\n",
      "-4.826859220296806473e-06\r\n",
      "-6.502061334503075418e-06\r\n",
      "1.047676510434300991e-07\r\n"
     ]
    }
   ],
   "source": [
    "!head logreg_coef.txt"
   ]
  },
  {
   "cell_type": "code",
   "execution_count": 17,
   "metadata": {},
   "outputs": [
    {
     "data": {
      "text/plain": [
       "array([[1.00000000e+00, 6.03168843e-41],\n",
       "       [9.99894533e-01, 1.05467460e-04],\n",
       "       [9.99663678e-01, 3.36321665e-04],\n",
       "       [9.99999901e-01, 9.91401537e-08],\n",
       "       [1.00000000e+00, 9.48725009e-98],\n",
       "       [1.00000000e+00, 9.48725009e-98],\n",
       "       [9.99999999e-01, 6.08635619e-10],\n",
       "       [1.00000000e+00, 9.48725009e-98],\n",
       "       [9.99918561e-01, 8.14393553e-05],\n",
       "       [9.99998990e-01, 1.00950563e-06]])"
      ]
     },
     "execution_count": 17,
     "metadata": {},
     "output_type": "execute_result"
    }
   ],
   "source": [
    "logreg.predict_proba(X_test[:10])"
   ]
  },
  {
   "cell_type": "code",
   "execution_count": 18,
   "metadata": {},
   "outputs": [],
   "source": [
    "catbst.save_model('model.cbm')"
   ]
  },
  {
   "cell_type": "code",
   "execution_count": 19,
   "metadata": {},
   "outputs": [],
   "source": [
    "y_pred_catb = catbst.predict_proba(X_test)[:, 1].reshape(-1, 1)\n",
    "\n",
    "np.savetxt(\"test_kdd99_catboost.txt\", np.hstack((y_pred_catb, X_test)), fmt=\"%g\")"
   ]
  },
  {
   "cell_type": "code",
   "execution_count": null,
   "metadata": {},
   "outputs": [],
   "source": []
  }
 ],
 "metadata": {
  "kernelspec": {
   "display_name": "Python 3",
   "language": "python",
   "name": "python3"
  },
  "language_info": {
   "codemirror_mode": {
    "name": "ipython",
    "version": 3
   },
   "file_extension": ".py",
   "mimetype": "text/x-python",
   "name": "python",
   "nbconvert_exporter": "python",
   "pygments_lexer": "ipython3",
   "version": "3.7.0"
  }
 },
 "nbformat": 4,
 "nbformat_minor": 2
}
